{
 "cells": [
  {
   "cell_type": "markdown",
   "metadata": {},
   "source": [
    "### N-Grams"
   ]
  },
  {
   "cell_type": "code",
   "execution_count": 1,
   "metadata": {},
   "outputs": [],
   "source": [
    "from nltk import ngrams\n",
    "sentence = '''London is considered to be one of the world's most important global cities \n",
    "and has been termed the world's most powerful, most desirable, most influential, most visited, most expensive, \n",
    "innovative, sustainable, most investment friendly, most popular for work, and the most vegetarian friendly city in the world.'''"
   ]
  },
  {
   "cell_type": "code",
   "execution_count": 2,
   "metadata": {},
   "outputs": [],
   "source": [
    "n = 2\n",
    "bigrams = ngrams(sentence.split(), n)"
   ]
  },
  {
   "cell_type": "code",
   "execution_count": 3,
   "metadata": {},
   "outputs": [
    {
     "name": "stdout",
     "output_type": "stream",
     "text": [
      "('London', 'is')\n",
      "('is', 'considered')\n",
      "('considered', 'to')\n",
      "('to', 'be')\n",
      "('be', 'one')\n",
      "('one', 'of')\n",
      "('of', 'the')\n",
      "('the', \"world's\")\n",
      "(\"world's\", 'most')\n",
      "('most', 'important')\n",
      "('important', 'global')\n",
      "('global', 'cities')\n",
      "('cities', 'and')\n",
      "('and', 'has')\n",
      "('has', 'been')\n",
      "('been', 'termed')\n",
      "('termed', 'the')\n",
      "('the', \"world's\")\n",
      "(\"world's\", 'most')\n",
      "('most', 'powerful,')\n",
      "('powerful,', 'most')\n",
      "('most', 'desirable,')\n",
      "('desirable,', 'most')\n",
      "('most', 'influential,')\n",
      "('influential,', 'most')\n",
      "('most', 'visited,')\n",
      "('visited,', 'most')\n",
      "('most', 'expensive,')\n",
      "('expensive,', 'innovative,')\n",
      "('innovative,', 'sustainable,')\n",
      "('sustainable,', 'most')\n",
      "('most', 'investment')\n",
      "('investment', 'friendly,')\n",
      "('friendly,', 'most')\n",
      "('most', 'popular')\n",
      "('popular', 'for')\n",
      "('for', 'work,')\n",
      "('work,', 'and')\n",
      "('and', 'the')\n",
      "('the', 'most')\n",
      "('most', 'vegetarian')\n",
      "('vegetarian', 'friendly')\n",
      "('friendly', 'city')\n",
      "('city', 'in')\n",
      "('in', 'the')\n",
      "('the', 'world.')\n"
     ]
    }
   ],
   "source": [
    "for grams in bigrams:\n",
    "    print(grams)"
   ]
  },
  {
   "cell_type": "code",
   "execution_count": 4,
   "metadata": {},
   "outputs": [
    {
     "name": "stdout",
     "output_type": "stream",
     "text": [
      "('London', 'is', 'considered', 'to')\n",
      "('is', 'considered', 'to', 'be')\n",
      "('considered', 'to', 'be', 'one')\n",
      "('to', 'be', 'one', 'of')\n",
      "('be', 'one', 'of', 'the')\n",
      "('one', 'of', 'the', \"world's\")\n",
      "('of', 'the', \"world's\", 'most')\n",
      "('the', \"world's\", 'most', 'important')\n",
      "(\"world's\", 'most', 'important', 'global')\n",
      "('most', 'important', 'global', 'cities')\n",
      "('important', 'global', 'cities', 'and')\n",
      "('global', 'cities', 'and', 'has')\n",
      "('cities', 'and', 'has', 'been')\n",
      "('and', 'has', 'been', 'termed')\n",
      "('has', 'been', 'termed', 'the')\n",
      "('been', 'termed', 'the', \"world's\")\n",
      "('termed', 'the', \"world's\", 'most')\n",
      "('the', \"world's\", 'most', 'powerful,')\n",
      "(\"world's\", 'most', 'powerful,', 'most')\n",
      "('most', 'powerful,', 'most', 'desirable,')\n",
      "('powerful,', 'most', 'desirable,', 'most')\n",
      "('most', 'desirable,', 'most', 'influential,')\n",
      "('desirable,', 'most', 'influential,', 'most')\n",
      "('most', 'influential,', 'most', 'visited,')\n",
      "('influential,', 'most', 'visited,', 'most')\n",
      "('most', 'visited,', 'most', 'expensive,')\n",
      "('visited,', 'most', 'expensive,', 'innovative,')\n",
      "('most', 'expensive,', 'innovative,', 'sustainable,')\n",
      "('expensive,', 'innovative,', 'sustainable,', 'most')\n",
      "('innovative,', 'sustainable,', 'most', 'investment')\n",
      "('sustainable,', 'most', 'investment', 'friendly,')\n",
      "('most', 'investment', 'friendly,', 'most')\n",
      "('investment', 'friendly,', 'most', 'popular')\n",
      "('friendly,', 'most', 'popular', 'for')\n",
      "('most', 'popular', 'for', 'work,')\n",
      "('popular', 'for', 'work,', 'and')\n",
      "('for', 'work,', 'and', 'the')\n",
      "('work,', 'and', 'the', 'most')\n",
      "('and', 'the', 'most', 'vegetarian')\n",
      "('the', 'most', 'vegetarian', 'friendly')\n",
      "('most', 'vegetarian', 'friendly', 'city')\n",
      "('vegetarian', 'friendly', 'city', 'in')\n",
      "('friendly', 'city', 'in', 'the')\n",
      "('city', 'in', 'the', 'world.')\n"
     ]
    }
   ],
   "source": [
    "n = 4\n",
    "fourgrams = ngrams(sentence.split(), n)\n",
    "for grams in fourgrams:\n",
    "    print(grams)"
   ]
  },
  {
   "cell_type": "markdown",
   "metadata": {},
   "source": [
    "#### FourGrams"
   ]
  },
  {
   "cell_type": "code",
   "execution_count": 5,
   "metadata": {},
   "outputs": [
    {
     "data": {
      "text/plain": [
       "['London',\n",
       " 'is',\n",
       " 'considered',\n",
       " 'to',\n",
       " 'be',\n",
       " 'one',\n",
       " 'of',\n",
       " 'the',\n",
       " 'world',\n",
       " \"'s\",\n",
       " 'most',\n",
       " 'important',\n",
       " 'global',\n",
       " 'cities',\n",
       " 'and',\n",
       " 'has',\n",
       " 'been',\n",
       " 'termed',\n",
       " 'the',\n",
       " 'world',\n",
       " \"'s\",\n",
       " 'most',\n",
       " 'powerful',\n",
       " ',',\n",
       " 'most',\n",
       " 'desirable',\n",
       " ',',\n",
       " 'most',\n",
       " 'influential',\n",
       " ',',\n",
       " 'most',\n",
       " 'visited',\n",
       " ',',\n",
       " 'most',\n",
       " 'expensive',\n",
       " ',',\n",
       " 'innovative',\n",
       " ',',\n",
       " 'sustainable',\n",
       " ',',\n",
       " 'most',\n",
       " 'investment',\n",
       " 'friendly',\n",
       " ',',\n",
       " 'most',\n",
       " 'popular',\n",
       " 'for',\n",
       " 'work',\n",
       " ',',\n",
       " 'and',\n",
       " 'the',\n",
       " 'most',\n",
       " 'vegetarian',\n",
       " 'friendly',\n",
       " 'city',\n",
       " 'in',\n",
       " 'the',\n",
       " 'world',\n",
       " '.']"
      ]
     },
     "execution_count": 5,
     "metadata": {},
     "output_type": "execute_result"
    }
   ],
   "source": [
    "import nltk\n",
    "from nltk.util import ngrams\n",
    "\n",
    "tokenize = nltk.word_tokenize(sentence)\n",
    "tokenize"
   ]
  },
  {
   "cell_type": "code",
   "execution_count": 6,
   "metadata": {},
   "outputs": [
    {
     "name": "stdout",
     "output_type": "stream",
     "text": [
      "('London', 'is')\n",
      "('is', 'considered')\n",
      "('considered', 'to')\n",
      "('to', 'be')\n",
      "('be', 'one')\n",
      "('one', 'of')\n",
      "('of', 'the')\n",
      "('the', 'world')\n",
      "('world', \"'s\")\n",
      "(\"'s\", 'most')\n",
      "('most', 'important')\n",
      "('important', 'global')\n",
      "('global', 'cities')\n",
      "('cities', 'and')\n",
      "('and', 'has')\n",
      "('has', 'been')\n",
      "('been', 'termed')\n",
      "('termed', 'the')\n",
      "('the', 'world')\n",
      "('world', \"'s\")\n",
      "(\"'s\", 'most')\n",
      "('most', 'powerful')\n",
      "('powerful', ',')\n",
      "(',', 'most')\n",
      "('most', 'desirable')\n",
      "('desirable', ',')\n",
      "(',', 'most')\n",
      "('most', 'influential')\n",
      "('influential', ',')\n",
      "(',', 'most')\n",
      "('most', 'visited')\n",
      "('visited', ',')\n",
      "(',', 'most')\n",
      "('most', 'expensive')\n",
      "('expensive', ',')\n",
      "(',', 'innovative')\n",
      "('innovative', ',')\n",
      "(',', 'sustainable')\n",
      "('sustainable', ',')\n",
      "(',', 'most')\n",
      "('most', 'investment')\n",
      "('investment', 'friendly')\n",
      "('friendly', ',')\n",
      "(',', 'most')\n",
      "('most', 'popular')\n",
      "('popular', 'for')\n",
      "('for', 'work')\n",
      "('work', ',')\n",
      "(',', 'and')\n",
      "('and', 'the')\n",
      "('the', 'most')\n",
      "('most', 'vegetarian')\n",
      "('vegetarian', 'friendly')\n",
      "('friendly', 'city')\n",
      "('city', 'in')\n",
      "('in', 'the')\n",
      "('the', 'world')\n",
      "('world', '.')\n"
     ]
    }
   ],
   "source": [
    "n = 2\n",
    "bigrams = ngrams(tokenize, n)\n",
    "for grams in bigrams:\n",
    "    print(grams)"
   ]
  },
  {
   "cell_type": "code",
   "execution_count": 7,
   "metadata": {},
   "outputs": [
    {
     "name": "stdout",
     "output_type": "stream",
     "text": [
      "('London', 'is', 'considered')\n",
      "('is', 'considered', 'to')\n",
      "('considered', 'to', 'be')\n",
      "('to', 'be', 'one')\n",
      "('be', 'one', 'of')\n",
      "('one', 'of', 'the')\n",
      "('of', 'the', 'world')\n",
      "('the', 'world', \"'s\")\n",
      "('world', \"'s\", 'most')\n",
      "(\"'s\", 'most', 'important')\n",
      "('most', 'important', 'global')\n",
      "('important', 'global', 'cities')\n",
      "('global', 'cities', 'and')\n",
      "('cities', 'and', 'has')\n",
      "('and', 'has', 'been')\n",
      "('has', 'been', 'termed')\n",
      "('been', 'termed', 'the')\n",
      "('termed', 'the', 'world')\n",
      "('the', 'world', \"'s\")\n",
      "('world', \"'s\", 'most')\n",
      "(\"'s\", 'most', 'powerful')\n",
      "('most', 'powerful', ',')\n",
      "('powerful', ',', 'most')\n",
      "(',', 'most', 'desirable')\n",
      "('most', 'desirable', ',')\n",
      "('desirable', ',', 'most')\n",
      "(',', 'most', 'influential')\n",
      "('most', 'influential', ',')\n",
      "('influential', ',', 'most')\n",
      "(',', 'most', 'visited')\n",
      "('most', 'visited', ',')\n",
      "('visited', ',', 'most')\n",
      "(',', 'most', 'expensive')\n",
      "('most', 'expensive', ',')\n",
      "('expensive', ',', 'innovative')\n",
      "(',', 'innovative', ',')\n",
      "('innovative', ',', 'sustainable')\n",
      "(',', 'sustainable', ',')\n",
      "('sustainable', ',', 'most')\n",
      "(',', 'most', 'investment')\n",
      "('most', 'investment', 'friendly')\n",
      "('investment', 'friendly', ',')\n",
      "('friendly', ',', 'most')\n",
      "(',', 'most', 'popular')\n",
      "('most', 'popular', 'for')\n",
      "('popular', 'for', 'work')\n",
      "('for', 'work', ',')\n",
      "('work', ',', 'and')\n",
      "(',', 'and', 'the')\n",
      "('and', 'the', 'most')\n",
      "('the', 'most', 'vegetarian')\n",
      "('most', 'vegetarian', 'friendly')\n",
      "('vegetarian', 'friendly', 'city')\n",
      "('friendly', 'city', 'in')\n",
      "('city', 'in', 'the')\n",
      "('in', 'the', 'world')\n",
      "('the', 'world', '.')\n"
     ]
    }
   ],
   "source": [
    "n = 3\n",
    "threegrams = ngrams(tokenize, n)\n",
    "for grams in threegrams:\n",
    "    print(grams)"
   ]
  },
  {
   "cell_type": "code",
   "execution_count": 8,
   "metadata": {},
   "outputs": [
    {
     "name": "stdout",
     "output_type": "stream",
     "text": [
      "('London', 'is', 'considered', 'to')\n",
      "('is', 'considered', 'to', 'be')\n",
      "('considered', 'to', 'be', 'one')\n",
      "('to', 'be', 'one', 'of')\n",
      "('be', 'one', 'of', 'the')\n",
      "('one', 'of', 'the', 'world')\n",
      "('of', 'the', 'world', \"'s\")\n",
      "('the', 'world', \"'s\", 'most')\n",
      "('world', \"'s\", 'most', 'important')\n",
      "(\"'s\", 'most', 'important', 'global')\n",
      "('most', 'important', 'global', 'cities')\n",
      "('important', 'global', 'cities', 'and')\n",
      "('global', 'cities', 'and', 'has')\n",
      "('cities', 'and', 'has', 'been')\n",
      "('and', 'has', 'been', 'termed')\n",
      "('has', 'been', 'termed', 'the')\n",
      "('been', 'termed', 'the', 'world')\n",
      "('termed', 'the', 'world', \"'s\")\n",
      "('the', 'world', \"'s\", 'most')\n",
      "('world', \"'s\", 'most', 'powerful')\n",
      "(\"'s\", 'most', 'powerful', ',')\n",
      "('most', 'powerful', ',', 'most')\n",
      "('powerful', ',', 'most', 'desirable')\n",
      "(',', 'most', 'desirable', ',')\n",
      "('most', 'desirable', ',', 'most')\n",
      "('desirable', ',', 'most', 'influential')\n",
      "(',', 'most', 'influential', ',')\n",
      "('most', 'influential', ',', 'most')\n",
      "('influential', ',', 'most', 'visited')\n",
      "(',', 'most', 'visited', ',')\n",
      "('most', 'visited', ',', 'most')\n",
      "('visited', ',', 'most', 'expensive')\n",
      "(',', 'most', 'expensive', ',')\n",
      "('most', 'expensive', ',', 'innovative')\n",
      "('expensive', ',', 'innovative', ',')\n",
      "(',', 'innovative', ',', 'sustainable')\n",
      "('innovative', ',', 'sustainable', ',')\n",
      "(',', 'sustainable', ',', 'most')\n",
      "('sustainable', ',', 'most', 'investment')\n",
      "(',', 'most', 'investment', 'friendly')\n",
      "('most', 'investment', 'friendly', ',')\n",
      "('investment', 'friendly', ',', 'most')\n",
      "('friendly', ',', 'most', 'popular')\n",
      "(',', 'most', 'popular', 'for')\n",
      "('most', 'popular', 'for', 'work')\n",
      "('popular', 'for', 'work', ',')\n",
      "('for', 'work', ',', 'and')\n",
      "('work', ',', 'and', 'the')\n",
      "(',', 'and', 'the', 'most')\n",
      "('and', 'the', 'most', 'vegetarian')\n",
      "('the', 'most', 'vegetarian', 'friendly')\n",
      "('most', 'vegetarian', 'friendly', 'city')\n",
      "('vegetarian', 'friendly', 'city', 'in')\n",
      "('friendly', 'city', 'in', 'the')\n",
      "('city', 'in', 'the', 'world')\n",
      "('in', 'the', 'world', '.')\n"
     ]
    }
   ],
   "source": [
    "n = 4\n",
    "fourgrams = ngrams(tokenize, n)\n",
    "for grams in fourgrams:\n",
    "    print(grams)"
   ]
  },
  {
   "cell_type": "code",
   "execution_count": 9,
   "metadata": {},
   "outputs": [],
   "source": [
    "from nltk.tokenize import RegexpTokenizer\n",
    "tokenizer = RegexpTokenizer(\"[a-zA-Z'`]+\")"
   ]
  },
  {
   "cell_type": "code",
   "execution_count": 10,
   "metadata": {},
   "outputs": [
    {
     "data": {
      "text/plain": [
       "['London',\n",
       " 'is',\n",
       " 'considered',\n",
       " 'to',\n",
       " 'be',\n",
       " 'one',\n",
       " 'of',\n",
       " 'the',\n",
       " \"world's\",\n",
       " 'most',\n",
       " 'important',\n",
       " 'global',\n",
       " 'cities',\n",
       " 'and',\n",
       " 'has',\n",
       " 'been',\n",
       " 'termed',\n",
       " 'the',\n",
       " \"world's\",\n",
       " 'most',\n",
       " 'powerful',\n",
       " 'most',\n",
       " 'desirable',\n",
       " 'most',\n",
       " 'influential',\n",
       " 'most',\n",
       " 'visited',\n",
       " 'most',\n",
       " 'expensive',\n",
       " 'innovative',\n",
       " 'sustainable',\n",
       " 'most',\n",
       " 'investment',\n",
       " 'friendly',\n",
       " 'most',\n",
       " 'popular',\n",
       " 'for',\n",
       " 'work',\n",
       " 'and',\n",
       " 'the',\n",
       " 'most',\n",
       " 'vegetarian',\n",
       " 'friendly',\n",
       " 'city',\n",
       " 'in',\n",
       " 'the',\n",
       " 'world']"
      ]
     },
     "execution_count": 10,
     "metadata": {},
     "output_type": "execute_result"
    }
   ],
   "source": [
    "tokens = tokenizer.tokenize(sentence)\n",
    "tokens"
   ]
  },
  {
   "cell_type": "code",
   "execution_count": 11,
   "metadata": {},
   "outputs": [
    {
     "name": "stdout",
     "output_type": "stream",
     "text": [
      "[('London', 'is', 'considered'), ('is', 'considered', 'to'), ('considered', 'to', 'be'), ('to', 'be', 'one'), ('be', 'one', 'of'), ('one', 'of', 'the'), ('of', 'the', \"world's\"), ('the', \"world's\", 'most'), (\"world's\", 'most', 'important'), ('most', 'important', 'global'), ('important', 'global', 'cities'), ('global', 'cities', 'and'), ('cities', 'and', 'has'), ('and', 'has', 'been'), ('has', 'been', 'termed'), ('been', 'termed', 'the'), ('termed', 'the', \"world's\"), ('the', \"world's\", 'most'), (\"world's\", 'most', 'powerful'), ('most', 'powerful', 'most'), ('powerful', 'most', 'desirable'), ('most', 'desirable', 'most'), ('desirable', 'most', 'influential'), ('most', 'influential', 'most'), ('influential', 'most', 'visited'), ('most', 'visited', 'most'), ('visited', 'most', 'expensive'), ('most', 'expensive', 'innovative'), ('expensive', 'innovative', 'sustainable'), ('innovative', 'sustainable', 'most'), ('sustainable', 'most', 'investment'), ('most', 'investment', 'friendly'), ('investment', 'friendly', 'most'), ('friendly', 'most', 'popular'), ('most', 'popular', 'for'), ('popular', 'for', 'work'), ('for', 'work', 'and'), ('work', 'and', 'the'), ('and', 'the', 'most'), ('the', 'most', 'vegetarian'), ('most', 'vegetarian', 'friendly'), ('vegetarian', 'friendly', 'city'), ('friendly', 'city', 'in'), ('city', 'in', 'the'), ('in', 'the', 'world')]\n"
     ]
    }
   ],
   "source": [
    "from nltk.util import ngrams\n",
    "print(list(ngrams(tokens, 3)))"
   ]
  },
  {
   "cell_type": "code",
   "execution_count": 12,
   "metadata": {},
   "outputs": [
    {
     "name": "stdout",
     "output_type": "stream",
     "text": [
      "[('London', 'is'), ('is', 'considered'), ('considered', 'to'), ('to', 'be'), ('be', 'one'), ('one', 'of'), ('of', 'the'), ('the', \"world's\"), (\"world's\", 'most'), ('most', 'important'), ('important', 'global'), ('global', 'cities'), ('cities', 'and'), ('and', 'has'), ('has', 'been'), ('been', 'termed'), ('termed', 'the'), ('the', \"world's\"), (\"world's\", 'most'), ('most', 'powerful'), ('powerful', 'most'), ('most', 'desirable'), ('desirable', 'most'), ('most', 'influential'), ('influential', 'most'), ('most', 'visited'), ('visited', 'most'), ('most', 'expensive'), ('expensive', 'innovative'), ('innovative', 'sustainable'), ('sustainable', 'most'), ('most', 'investment'), ('investment', 'friendly'), ('friendly', 'most'), ('most', 'popular'), ('popular', 'for'), ('for', 'work'), ('work', 'and'), ('and', 'the'), ('the', 'most'), ('most', 'vegetarian'), ('vegetarian', 'friendly'), ('friendly', 'city'), ('city', 'in'), ('in', 'the'), ('the', 'world')]\n"
     ]
    }
   ],
   "source": [
    "print(list(ngrams(tokens, 2)))"
   ]
  },
  {
   "cell_type": "markdown",
   "metadata": {},
   "source": [
    "### Concordance"
   ]
  },
  {
   "cell_type": "code",
   "execution_count": 13,
   "metadata": {},
   "outputs": [],
   "source": [
    "#nltk.download('book')"
   ]
  },
  {
   "cell_type": "code",
   "execution_count": 1,
   "metadata": {},
   "outputs": [
    {
     "name": "stdout",
     "output_type": "stream",
     "text": [
      "*** Introductory Examples for the NLTK Book ***\n",
      "Loading text1, ..., text9 and sent1, ..., sent9\n",
      "Type the name of the text or sentence to view it.\n",
      "Type: 'texts()' or 'sents()' to list the materials.\n",
      "text1: Moby Dick by Herman Melville 1851\n",
      "text2: Sense and Sensibility by Jane Austen 1811\n",
      "text3: The Book of Genesis\n",
      "text4: Inaugural Address Corpus\n",
      "text5: Chat Corpus\n",
      "text6: Monty Python and the Holy Grail\n",
      "text7: Wall Street Journal\n",
      "text8: Personals Corpus\n",
      "text9: The Man Who Was Thursday by G . K . Chesterton 1908\n"
     ]
    },
    {
     "ename": "AttributeError",
     "evalue": "'Text' object has no attribute 'sents'",
     "output_type": "error",
     "traceback": [
      "\u001b[1;31m---------------------------------------------------------------------------\u001b[0m",
      "\u001b[1;31mAttributeError\u001b[0m                            Traceback (most recent call last)",
      "\u001b[1;32m<ipython-input-1-aa1d59ab2dbf>\u001b[0m in \u001b[0;36m<module>\u001b[1;34m\u001b[0m\n\u001b[0;32m      1\u001b[0m \u001b[1;32mfrom\u001b[0m \u001b[0mnltk\u001b[0m\u001b[1;33m.\u001b[0m\u001b[0mbook\u001b[0m \u001b[1;32mimport\u001b[0m \u001b[1;33m*\u001b[0m\u001b[1;33m\u001b[0m\u001b[0m\n\u001b[1;32m----> 2\u001b[1;33m \u001b[0mtext1\u001b[0m\u001b[1;33m.\u001b[0m\u001b[0msents\u001b[0m\u001b[1;33m(\u001b[0m\u001b[1;33m)\u001b[0m\u001b[1;33m\u001b[0m\u001b[0m\n\u001b[0m",
      "\u001b[1;31mAttributeError\u001b[0m: 'Text' object has no attribute 'sents'"
     ]
    }
   ],
   "source": [
    "from nltk.book import *\n",
    "nltk.corpus.gutenberg.sents()"
   ]
  },
  {
   "cell_type": "code",
   "execution_count": 15,
   "metadata": {},
   "outputs": [
    {
     "name": "stdout",
     "output_type": "stream",
     "text": [
      "Displaying 11 of 11 matches:\n",
      "ong the former , one was of a most monstrous size . ... This came towards us , \n",
      "ON OF THE PSALMS . \" Touching that monstrous bulk of the whale or ork we have r\n",
      "ll over with a heathenish array of monstrous clubs and spears . Some were thick\n",
      "d as you gazed , and wondered what monstrous cannibal and savage could ever hav\n",
      "that has survived the flood ; most monstrous and most mountainous ! That Himmal\n",
      "they might scout at Moby Dick as a monstrous fable , or still worse and more de\n",
      "th of Radney .'\" CHAPTER 55 Of the Monstrous Pictures of Whales . I shall ere l\n",
      "ing Scenes . In connexion with the monstrous pictures of whales , I am strongly\n",
      "ere to enter upon those still more monstrous stories of them which are to be fo\n",
      "ght have been rummaged out of this monstrous cabinet there is no telling . But \n",
      "of Whale - Bones ; for Whales of a monstrous size are oftentimes cast up dead u\n"
     ]
    }
   ],
   "source": [
    "text1.concordance(\"monstrous\")"
   ]
  },
  {
   "cell_type": "code",
   "execution_count": 16,
   "metadata": {},
   "outputs": [
    {
     "data": {
      "text/plain": [
       "<Text: Sense and Sensibility by Jane Austen 1811>"
      ]
     },
     "execution_count": 16,
     "metadata": {},
     "output_type": "execute_result"
    }
   ],
   "source": [
    "text2"
   ]
  },
  {
   "cell_type": "code",
   "execution_count": 17,
   "metadata": {},
   "outputs": [
    {
     "name": "stdout",
     "output_type": "stream",
     "text": [
      "Displaying 11 of 11 matches:\n",
      ". \" Now , Palmer , you shall see a monstrous pretty girl .\" He immediately went\n",
      "your sister is to marry him . I am monstrous glad of it , for then I shall have\n",
      "ou may tell your sister . She is a monstrous lucky girl to get him , upon my ho\n",
      "k how you will like them . Lucy is monstrous pretty , and so good humoured and \n",
      " Jennings , \" I am sure I shall be monstrous glad of Miss Marianne ' s company \n",
      " usual noisy cheerfulness , \" I am monstrous glad to see you -- sorry I could n\n",
      "t however , as it turns out , I am monstrous glad there was never any thing in \n",
      "so scornfully ! for they say he is monstrous fond of her , as well he may . I s\n",
      "possible that she should .\" \" I am monstrous glad of it . Good gracious ! I hav\n",
      "thing of the kind . So then he was monstrous happy , and talked on some time ab\n",
      "e very genteel people . He makes a monstrous deal of money , and they keep thei\n"
     ]
    }
   ],
   "source": [
    "text2.concordance(\"monstrous\")"
   ]
  },
  {
   "cell_type": "code",
   "execution_count": 18,
   "metadata": {},
   "outputs": [
    {
     "name": "stdout",
     "output_type": "stream",
     "text": [
      "true contemptible christian abundant few part mean careful puzzled\n",
      "mystifying passing curious loving wise doleful gamesome singular\n",
      "delightfully perilous fearless\n"
     ]
    }
   ],
   "source": [
    "text1.similar(\"monstrous\")"
   ]
  },
  {
   "cell_type": "code",
   "execution_count": 19,
   "metadata": {},
   "outputs": [
    {
     "name": "stdout",
     "output_type": "stream",
     "text": [
      "very so exceedingly heartily a as good great extremely remarkably\n",
      "sweet vast amazingly\n"
     ]
    }
   ],
   "source": [
    "text2.similar(\"monstrous\")"
   ]
  },
  {
   "cell_type": "code",
   "execution_count": 20,
   "metadata": {},
   "outputs": [
    {
     "name": "stdout",
     "output_type": "stream",
     "text": [
      "a_pretty am_glad a_lucky is_pretty be_glad\n"
     ]
    }
   ],
   "source": [
    "text2.common_contexts([\"monstrous\", \"very\"])"
   ]
  },
  {
   "cell_type": "code",
   "execution_count": 21,
   "metadata": {},
   "outputs": [
    {
     "data": {
      "text/plain": [
       "<Text: Inaugural Address Corpus>"
      ]
     },
     "execution_count": 21,
     "metadata": {},
     "output_type": "execute_result"
    }
   ],
   "source": [
    "text4"
   ]
  },
  {
   "cell_type": "code",
   "execution_count": 22,
   "metadata": {},
   "outputs": [
    {
     "data": {
      "image/png": "[encoded data removed]",
      "text/plain": [
       "<Figure size 432x288 with 1 Axes>"
      ]
     },
     "metadata": {
      "needs_background": "light"
     },
     "output_type": "display_data"
    }
   ],
   "source": [
    "%matplotlib inline\n",
    "text4.dispersion_plot([\"citizens\", \"democracy\", \"freedom\", \"duties\", \"America\"])"
   ]
  },
  {
   "cell_type": "markdown",
   "metadata": {},
   "source": [
    "### Frequency"
   ]
  },
  {
   "cell_type": "code",
   "execution_count": 23,
   "metadata": {},
   "outputs": [
    {
     "data": {
      "text/plain": [
       "FreqDist({',': 18713, 'the': 13721, '.': 6862, 'of': 6536, 'and': 6024, 'a': 4569, 'to': 4542, ';': 4072, 'in': 3916, 'that': 2982, ...})"
      ]
     },
     "execution_count": 23,
     "metadata": {},
     "output_type": "execute_result"
    }
   ],
   "source": [
    "fdist1 = FreqDist(text1)\n",
    "fdist1"
   ]
  },
  {
   "cell_type": "code",
   "execution_count": 24,
   "metadata": {},
   "outputs": [
    {
     "data": {
      "text/plain": [
       "['[',\n",
       " 'Moby',\n",
       " 'Dick',\n",
       " 'by',\n",
       " 'Herman',\n",
       " 'Melville',\n",
       " '1851',\n",
       " ']',\n",
       " 'ETYMOLOGY',\n",
       " '.',\n",
       " '(',\n",
       " 'Supplied',\n",
       " 'a',\n",
       " 'Late',\n",
       " 'Consumptive',\n",
       " 'Usher',\n",
       " 'to',\n",
       " 'Grammar',\n",
       " 'School',\n",
       " ')',\n",
       " 'The',\n",
       " 'pale',\n",
       " '--',\n",
       " 'threadbare',\n",
       " 'in',\n",
       " 'coat',\n",
       " ',',\n",
       " 'heart',\n",
       " 'body',\n",
       " 'and',\n",
       " 'brain',\n",
       " ';',\n",
       " 'I',\n",
       " 'see',\n",
       " 'him',\n",
       " 'now',\n",
       " 'He',\n",
       " 'was',\n",
       " 'ever',\n",
       " 'dusting',\n",
       " 'his',\n",
       " 'old',\n",
       " 'lexicons',\n",
       " 'grammars',\n",
       " 'with',\n",
       " 'queer',\n",
       " 'handkerchief',\n",
       " 'mockingly',\n",
       " 'embellished',\n",
       " 'all']"
      ]
     },
     "execution_count": 24,
     "metadata": {},
     "output_type": "execute_result"
    }
   ],
   "source": [
    "vocabulary1 = list(fdist1.keys())\n",
    "vocabulary1[:50]"
   ]
  },
  {
   "cell_type": "code",
   "execution_count": 25,
   "metadata": {},
   "outputs": [
    {
     "data": {
      "text/plain": [
       "[(',', 18713),\n",
       " ('the', 13721),\n",
       " ('.', 6862),\n",
       " ('of', 6536),\n",
       " ('and', 6024),\n",
       " ('a', 4569),\n",
       " ('to', 4542),\n",
       " (';', 4072),\n",
       " ('in', 3916),\n",
       " ('that', 2982),\n",
       " (\"'\", 2684),\n",
       " ('-', 2552),\n",
       " ('his', 2459),\n",
       " ('it', 2209),\n",
       " ('I', 2124),\n",
       " ('s', 1739),\n",
       " ('is', 1695),\n",
       " ('he', 1661),\n",
       " ('with', 1659),\n",
       " ('was', 1632),\n",
       " ('as', 1620),\n",
       " ('\"', 1478),\n",
       " ('all', 1462),\n",
       " ('for', 1414),\n",
       " ('this', 1280),\n",
       " ('!', 1269),\n",
       " ('at', 1231),\n",
       " ('by', 1137),\n",
       " ('but', 1113),\n",
       " ('not', 1103),\n",
       " ('--', 1070),\n",
       " ('him', 1058),\n",
       " ('from', 1052),\n",
       " ('be', 1030),\n",
       " ('on', 1005),\n",
       " ('so', 918),\n",
       " ('whale', 906),\n",
       " ('one', 889),\n",
       " ('you', 841),\n",
       " ('had', 767),\n",
       " ('have', 760),\n",
       " ('there', 715),\n",
       " ('But', 705),\n",
       " ('or', 697),\n",
       " ('were', 680),\n",
       " ('now', 646),\n",
       " ('which', 640),\n",
       " ('?', 637),\n",
       " ('me', 627),\n",
       " ('like', 624)]"
      ]
     },
     "execution_count": 25,
     "metadata": {},
     "output_type": "execute_result"
    }
   ],
   "source": [
    "fdist1.most_common(50)"
   ]
  },
  {
   "cell_type": "code",
   "execution_count": 26,
   "metadata": {},
   "outputs": [
    {
     "data": {
      "text/plain": [
       "906"
      ]
     },
     "execution_count": 26,
     "metadata": {},
     "output_type": "execute_result"
    }
   ],
   "source": [
    "fdist1[\"whale\"]"
   ]
  },
  {
   "cell_type": "code",
   "execution_count": 27,
   "metadata": {},
   "outputs": [
    {
     "data": {
      "image/png": "[encoded data removed]",
      "text/plain": [
       "<Figure size 432x288 with 1 Axes>"
      ]
     },
     "metadata": {
      "needs_background": "light"
     },
     "output_type": "display_data"
    }
   ],
   "source": [
    "fdist1.plot(50, cumulative = True)"
   ]
  },
  {
   "cell_type": "markdown",
   "metadata": {},
   "source": [
    "### Collocation"
   ]
  },
  {
   "cell_type": "code",
   "execution_count": 28,
   "metadata": {},
   "outputs": [
    {
     "name": "stdout",
     "output_type": "stream",
     "text": [
      "United States; fellow citizens; four years; years ago; Federal\n",
      "Government; General Government; American people; Vice President; Old\n",
      "World; Almighty God; Fellow citizens; Chief Magistrate; Chief Justice;\n",
      "God bless; every citizen; Indian tribes; public debt; one another;\n",
      "foreign nations; political parties\n"
     ]
    }
   ],
   "source": [
    "text4.collocations()"
   ]
  },
  {
   "cell_type": "code",
   "execution_count": 29,
   "metadata": {},
   "outputs": [
    {
     "name": "stdout",
     "output_type": "stream",
     "text": [
      "would like; medium build; social drinker; quiet nights; non smoker;\n",
      "long term; age open; Would like; easy going; financially secure; fun\n",
      "times; similar interests; Age open; weekends away; poss rship; well\n",
      "presented; never married; single mum; permanent relationship; slim\n",
      "build\n"
     ]
    }
   ],
   "source": [
    "text8.collocations()"
   ]
  },
  {
   "cell_type": "markdown",
   "metadata": {},
   "source": [
    "### Hapaxes"
   ]
  },
  {
   "cell_type": "code",
   "execution_count": 30,
   "metadata": {},
   "outputs": [
    {
     "data": {
      "text/plain": [
       "['Herman',\n",
       " 'Melville',\n",
       " ']',\n",
       " 'ETYMOLOGY',\n",
       " 'Late',\n",
       " 'Consumptive',\n",
       " 'School',\n",
       " 'threadbare',\n",
       " 'lexicons',\n",
       " 'mockingly']"
      ]
     },
     "execution_count": 30,
     "metadata": {},
     "output_type": "execute_result"
    }
   ],
   "source": [
    "one = fdist1.hapaxes() # find the words that occur only once\n",
    "one[:10]"
   ]
  }
 ],
 "metadata": {
  "kernelspec": {
   "display_name": "Python 3",
   "language": "python",
   "name": "python3"
  },
  "language_info": {
   "codemirror_mode": {
    "name": "ipython",
    "version": 3
   },
   "file_extension": ".py",
   "mimetype": "text/x-python",
   "name": "python",
   "nbconvert_exporter": "python",
   "pygments_lexer": "ipython3",
   "version": "3.6.4"
  }
 },
 "nbformat": 4,
 "nbformat_minor": 2
}
