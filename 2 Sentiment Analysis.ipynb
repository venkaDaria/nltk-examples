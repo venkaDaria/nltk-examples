{
 "cells": [
  {
   "cell_type": "code",
   "execution_count": 1,
   "metadata": {},
   "outputs": [],
   "source": [
    "from sklearn.feature_extraction.text import CountVectorizer, TfidfTransformer, TfidfVectorizer\n",
    "from sklearn.naive_bayes import MultinomialNB\n",
    "from sklearn.svm import SVC\n",
    "from random import shuffle\n",
    "from sklearn.metrics import precision_recall_fscore_support, precision_score"
   ]
  },
  {
   "cell_type": "code",
   "execution_count": 2,
   "metadata": {},
   "outputs": [],
   "source": [
    "# Read data (from here https://www.kaggle.com/c/si650winter11/data)\n",
    "with open(\"data/training.txt\", \"r\", encoding=\"utf-8\") as f:\n",
    "    train = f.readlines()"
   ]
  },
  {
   "cell_type": "code",
   "execution_count": 3,
   "metadata": {},
   "outputs": [],
   "source": [
    "sentences = train # train - corpus\n",
    "shuffle(sentences)"
   ]
  },
  {
   "cell_type": "code",
   "execution_count": 4,
   "metadata": {},
   "outputs": [],
   "source": [
    "# check another instead of 50% (train - 60-80%, val - 40-20%)\n",
    "train_data = sentences[:3500]\n",
    "test_data = sentences[3500:]"
   ]
  },
  {
   "cell_type": "code",
   "execution_count": 5,
   "metadata": {},
   "outputs": [],
   "source": [
    "# find row and category\n",
    "train_category, train_corpus = zip(*[s.split(\"\\t\") for s in train_data])\n",
    "test_category, test_corpus = zip(*[s.split(\"\\t\") for s in test_data])    "
   ]
  },
  {
   "cell_type": "code",
   "execution_count": 6,
   "metadata": {},
   "outputs": [],
   "source": [
    "# ? попробовать не соединять, только на train_corpus\n",
    "all_corpus = train_corpus + test_corpus"
   ]
  },
  {
   "cell_type": "code",
   "execution_count": 7,
   "metadata": {},
   "outputs": [],
   "source": [
    "vectorizer = CountVectorizer(min_df=1) # count words\n",
    "matrix = vectorizer.fit_transform(all_corpus) "
   ]
  },
  {
   "cell_type": "code",
   "execution_count": 8,
   "metadata": {},
   "outputs": [],
   "source": [
    "### instead of\n",
    "tf_transformer = TfidfTransformer(use_idf=True).fit(matrix)\n",
    "X_train_td = tf_transformer.transform(matrix)\n",
    "###"
   ]
  },
  {
   "cell_type": "code",
   "execution_count": 9,
   "metadata": {},
   "outputs": [],
   "source": [
    "first_matrix = matrix[:3500]\n",
    "second_matrix = matrix[3500:]"
   ]
  },
  {
   "cell_type": "code",
   "execution_count": 10,
   "metadata": {},
   "outputs": [],
   "source": [
    "analyze = vectorizer.build_analyzer()\n",
    "VF = vectorizer.get_feature_names()"
   ]
  },
  {
   "cell_type": "code",
   "execution_count": 11,
   "metadata": {},
   "outputs": [],
   "source": [
    "# or svn instead of multinomal\n",
    "clf = MultinomialNB().fit(first_matrix, [int(item) for item in train_category]) # train\n",
    "predicted = clf.predict(second_matrix) # test "
   ]
  },
  {
   "cell_type": "code",
   "execution_count": 12,
   "metadata": {},
   "outputs": [
    {
     "name": "stdout",
     "output_type": "stream",
     "text": [
      "(0.981037367540435, 0.981037367540435, 0.981037367540435, None)\n",
      "0.981037367540435\n"
     ]
    }
   ],
   "source": [
    "vector_test = [int(item) for item in test_category]\n",
    "print(precision_recall_fscore_support(vector_test, predicted, average=\"micro\"))\n",
    "print(precision_score(vector_test, predicted, average=\"micro\"))"
   ]
  }
 ],
 "metadata": {
  "kernelspec": {
   "display_name": "Python 3",
   "language": "python",
   "name": "python3"
  },
  "language_info": {
   "codemirror_mode": {
    "name": "ipython",
    "version": 3
   },
   "file_extension": ".py",
   "mimetype": "text/x-python",
   "name": "python",
   "nbconvert_exporter": "python",
   "pygments_lexer": "ipython3",
   "version": "3.6.4"
  }
 },
 "nbformat": 4,
 "nbformat_minor": 2
}
